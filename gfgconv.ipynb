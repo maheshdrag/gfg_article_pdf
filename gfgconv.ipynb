{
 "cells": [
  {
   "cell_type": "code",
   "execution_count": 1,
   "metadata": {},
   "outputs": [],
   "source": [
    "import bs4\n",
    "import sys\n",
    "from urllib import urlopen as uReq\n",
    "from bs4 import BeautifulSoup as soup\n",
    "import pdfkit\n",
    "import os\n",
    "import os.path\n",
    "from os import path"
   ]
  },
  {
   "cell_type": "code",
   "execution_count": null,
   "metadata": {},
   "outputs": [],
   "source": [
    "url = raw_input()\n",
    "#url.replace(\"/\",\"\\/\")\n",
    "uClient = uReq(url)\n",
    "rsp = uClient.read()\n",
    "uClient.close()\n",
    "rsp_soup = soup(rsp,\"html.parser\")\n",
    "items = rsp_soup.findAll([\"head\",\"article\"])\n",
    "title = rsp_soup.findAll(\"h1\",{\"class\":\"entry-title\"})\n",
    "ftitle = title[0].text.encode('utf8')\n",
    "ftitle = ftitle.replace(\"\\xe2\\x80\\x93\",\"\")\n",
    "ftitle = ftitle.replace(\"|\",\"\")\n",
    "#ftitle = ftitle.replace(\"|\",\"\")\n",
    "print ftitle"
   ]
  },
  {
   "cell_type": "code",
   "execution_count": null,
   "metadata": {},
   "outputs": [],
   "source": [
    "x = str(items[0]) + str(items[1])\n",
    "#html = items[i].prettify(\"utf-8\")\n",
    "stri = ftitle\n",
    "stri += \".html\"\n",
    "if path.exists(stri):\n",
    "    print \"file already exists please delete it and try again\"\n",
    "else:\n",
    "    with open(stri, \"wb\") as file:\n",
    "        file.write(x)\n",
    "    stre = ftitle\n",
    "    stre += \".pdf\"\n",
    "    try:\n",
    "        pdfkit.from_file(stri,stre)\n",
    "    except:\n",
    "        print \"Stage 1\"\n",
    "    os.startfile(stre)"
   ]
  },
  {
   "cell_type": "code",
   "execution_count": null,
   "metadata": {},
   "outputs": [],
   "source": []
  }
 ],
 "metadata": {
  "kernelspec": {
   "display_name": "Python 2",
   "language": "python",
   "name": "python2"
  },
  "language_info": {
   "codemirror_mode": {
    "name": "ipython",
    "version": 2
   },
   "file_extension": ".py",
   "mimetype": "text/x-python",
   "name": "python",
   "nbconvert_exporter": "python",
   "pygments_lexer": "ipython2",
   "version": "2.7.12"
  }
 },
 "nbformat": 4,
 "nbformat_minor": 2
}
